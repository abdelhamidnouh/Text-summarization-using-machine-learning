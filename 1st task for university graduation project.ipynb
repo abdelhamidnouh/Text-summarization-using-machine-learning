{
 "cells": [
  {
   "cell_type": "markdown",
   "id": "a4d6b771",
   "metadata": {},
   "source": [
    "# sentence segmentation in text "
   ]
  },
  {
   "cell_type": "markdown",
   "id": "105ca29d",
   "metadata": {},
   "source": [
    "# 01- Extract Text from PDF Files using NLP"
   ]
  },
  {
   "cell_type": "markdown",
   "id": "368ef028",
   "metadata": {},
   "source": [
    "First step I will do is to bulid a model that ectract text from PDF file to txt file."
   ]
  },
  {
   "cell_type": "markdown",
   "id": "0fbda092",
   "metadata": {},
   "source": [
    "We have to install PyPDF2 library  "
   ]
  },
  {
   "cell_type": "markdown",
   "id": "cdfb8728",
   "metadata": {},
   "source": [
    "Learn more about PyPDF2 library:https://pythonhosted.org/PyPDF2/"
   ]
  },
  {
   "cell_type": "code",
   "execution_count": 3,
   "id": "04b3aeb7",
   "metadata": {},
   "outputs": [
    {
     "name": "stdout",
     "output_type": "stream",
     "text": [
      "Collecting PyPDF2\n",
      "  Downloading PyPDF2-1.26.0.tar.gz (77 kB)\n",
      "\u001b[K     |████████████████████████████████| 77 kB 930 kB/s eta 0:00:01\n",
      "\u001b[?25hBuilding wheels for collected packages: PyPDF2\n",
      "  Building wheel for PyPDF2 (setup.py) ... \u001b[?25ldone\n",
      "\u001b[?25h  Created wheel for PyPDF2: filename=PyPDF2-1.26.0-py3-none-any.whl size=61085 sha256=646b1100ad812d882084e44b6b48d69378228cd9811b60c8576f68b62421a434\n",
      "  Stored in directory: /home/abdelhamid/.cache/pip/wheels/b1/1a/8f/a4c34be976825a2f7948d0fa40907598d69834f8ab5889de11\n",
      "Successfully built PyPDF2\n",
      "Installing collected packages: PyPDF2\n",
      "Successfully installed PyPDF2-1.26.0\n"
     ]
    }
   ],
   "source": [
    "!pip install PyPDF2"
   ]
  },
  {
   "cell_type": "code",
   "execution_count": 6,
   "id": "af826484",
   "metadata": {},
   "outputs": [],
   "source": [
    "import PyPDF2 as pdf"
   ]
  },
  {
   "cell_type": "markdown",
   "id": "0729bac1",
   "metadata": {},
   "source": [
    "I will try it with an AI Lacture (L4) "
   ]
  },
  {
   "cell_type": "code",
   "execution_count": 9,
   "id": "d10f940c",
   "metadata": {},
   "outputs": [],
   "source": [
    "file= open('Presentation.pdf' , 'rb')"
   ]
  },
  {
   "cell_type": "code",
   "execution_count": 10,
   "id": "1256303c",
   "metadata": {},
   "outputs": [
    {
     "data": {
      "text/plain": [
       "<_io.BufferedReader name='Presentation.pdf'>"
      ]
     },
     "execution_count": 10,
     "metadata": {},
     "output_type": "execute_result"
    }
   ],
   "source": [
    "file"
   ]
  },
  {
   "cell_type": "code",
   "execution_count": 12,
   "id": "b0b5a736",
   "metadata": {},
   "outputs": [],
   "source": [
    "pdf_reader = pdf.PdfFileReader(file)"
   ]
  },
  {
   "cell_type": "code",
   "execution_count": 13,
   "id": "8495e4d4",
   "metadata": {},
   "outputs": [
    {
     "data": {
      "text/plain": [
       "<PyPDF2.pdf.PdfFileReader at 0x7f650052a220>"
      ]
     },
     "execution_count": 13,
     "metadata": {},
     "output_type": "execute_result"
    }
   ],
   "source": [
    "pdf_reader"
   ]
  },
  {
   "cell_type": "code",
   "execution_count": 14,
   "id": "6f175974",
   "metadata": {},
   "outputs": [
    {
     "data": {
      "text/plain": [
       "False"
      ]
     },
     "execution_count": 14,
     "metadata": {},
     "output_type": "execute_result"
    }
   ],
   "source": [
    "pdf_reader.getIsEncrypted()"
   ]
  },
  {
   "cell_type": "code",
   "execution_count": 16,
   "id": "edd407a9",
   "metadata": {},
   "outputs": [
    {
     "data": {
      "text/plain": [
       "39"
      ]
     },
     "execution_count": 16,
     "metadata": {},
     "output_type": "execute_result"
    }
   ],
   "source": [
    "pdf_reader.getNumPages()"
   ]
  },
  {
   "cell_type": "code",
   "execution_count": 17,
   "id": "cf841600",
   "metadata": {},
   "outputs": [],
   "source": [
    "page1= pdf_reader.getPage(0)"
   ]
  },
  {
   "cell_type": "code",
   "execution_count": 20,
   "id": "831e32eb",
   "metadata": {},
   "outputs": [
    {
     "data": {
      "text/plain": [
       "'ARTIFICIAL \\nINTELLIGENCE \\nARTIFICIAL \\nINTELLIGENCE \\nLecture ( \\nLecture ( \\n4 \\n4 \\n) \\n) \\nLecture ( \\nLecture ( \\n4 \\n4 \\n) \\n) \\n1\\nDr. \\nDr. \\nAmr\\nAmr\\nZamel\\nZamel\\nDr. \\nDr. \\nAmr\\nAmr\\nZamel\\nZamel\\nDept. of Computer & Systems \\nEngineering\\nZagazig\\nUniversity\\nCredits to Dr. \\nHazem\\nShehata\\nfor the slides \\nDept. of Computer & Systems \\nEngineering\\nZagazig\\nUniversity\\nCredits to Dr. \\nHazem\\nShehata\\nfor the slides \\n\\n2017 \\nDr.Eng\\n. \\nHazem\\nShehata\\nand Dr. \\nAmr\\nZamel\\nas part of the course work and learning material. All Rights \\nReserved. Where otherwise noted, this work is licensed under a Creative Commons Attribution\\n-\\nNonCommercial\\n-\\nShareAlike\\n4\\n.\\n0 \\nInternational License.\\nAI...Dr.Amr Zamel...CSE Dept...Zagazig \\nUniversity\\n'"
      ]
     },
     "execution_count": 20,
     "metadata": {},
     "output_type": "execute_result"
    }
   ],
   "source": [
    "page1.extractText()"
   ]
  },
  {
   "cell_type": "code",
   "execution_count": 21,
   "id": "0ebec7f8",
   "metadata": {},
   "outputs": [],
   "source": [
    "page3= pdf_reader.getPage(2)"
   ]
  },
  {
   "cell_type": "code",
   "execution_count": 22,
   "id": "525b3f30",
   "metadata": {},
   "outputs": [
    {
     "data": {
      "text/plain": [
       "'A\\nDVERSARIAL\\nSEARCH\\n\\nMulti\\n-\\nagent environments:\\n\\nCooperative.\\n\\nCompetitive.\\n\\nIn competitive environments, different agents \\nhave conflicting goals.\\n\\nThis gives rise to adversarial search, also \\nknown as \\ngames\\n.\\n3\\nAI...Dr.Amr Zamel...CSE Dept...Zagazig University\\n'"
      ]
     },
     "execution_count": 22,
     "metadata": {},
     "output_type": "execute_result"
    }
   ],
   "source": [
    "page3.extractText()"
   ]
  },
  {
   "cell_type": "code",
   "execution_count": 23,
   "id": "2c8e0b52",
   "metadata": {},
   "outputs": [],
   "source": [
    "pdf_writer = pdf.PdfFileWriter()"
   ]
  },
  {
   "cell_type": "code",
   "execution_count": 25,
   "id": "9b4acb71",
   "metadata": {},
   "outputs": [
    {
     "name": "stdout",
     "output_type": "stream",
     "text": [
      "Requirement already satisfied: nltk in ./anaconda3/lib/python3.8/site-packages (3.6.2)\n",
      "Requirement already satisfied: joblib in ./anaconda3/lib/python3.8/site-packages (from nltk) (1.0.1)\n",
      "Requirement already satisfied: click in ./anaconda3/lib/python3.8/site-packages (from nltk) (8.0.1)\n",
      "Requirement already satisfied: regex in ./anaconda3/lib/python3.8/site-packages (from nltk) (2021.7.6)\n",
      "Requirement already satisfied: tqdm in ./anaconda3/lib/python3.8/site-packages (from nltk) (4.61.2)\n"
     ]
    }
   ],
   "source": [
    "!pip install nltk"
   ]
  },
  {
   "cell_type": "code",
   "execution_count": 26,
   "id": "010946ef",
   "metadata": {},
   "outputs": [],
   "source": [
    "import nltk"
   ]
  },
  {
   "cell_type": "code",
   "execution_count": 28,
   "id": "26a01711",
   "metadata": {},
   "outputs": [
    {
     "name": "stderr",
     "output_type": "stream",
     "text": [
      "[nltk_data] Downloading package punkt to /home/abdelhamid/nltk_data...\n",
      "[nltk_data]   Unzipping tokenizers/punkt.zip.\n"
     ]
    },
    {
     "data": {
      "text/plain": [
       "True"
      ]
     },
     "execution_count": 28,
     "metadata": {},
     "output_type": "execute_result"
    }
   ],
   "source": [
    "nltk.download('punkt')"
   ]
  },
  {
   "cell_type": "markdown",
   "id": "8c313cdb",
   "metadata": {},
   "source": [
    "    ##I will do the rest of the work later"
   ]
  },
  {
   "cell_type": "code",
   "execution_count": null,
   "id": "04daf254",
   "metadata": {},
   "outputs": [],
   "source": []
  }
 ],
 "metadata": {
  "kernelspec": {
   "display_name": "Python 3 (ipykernel)",
   "language": "python",
   "name": "python3"
  },
  "language_info": {
   "codemirror_mode": {
    "name": "ipython",
    "version": 3
   },
   "file_extension": ".py",
   "mimetype": "text/x-python",
   "name": "python",
   "nbconvert_exporter": "python",
   "pygments_lexer": "ipython3",
   "version": "3.8.10"
  }
 },
 "nbformat": 4,
 "nbformat_minor": 5
}
